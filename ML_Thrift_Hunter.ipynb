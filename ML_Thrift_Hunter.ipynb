{
  "cells": [
    {
      "cell_type": "code",
      "execution_count": 1,
      "metadata": {
        "id": "6ymVQMHC5-HU"
      },
      "outputs": [
        {
          "name": "stderr",
          "output_type": "stream",
          "text": [
            "'chmod' is not recognized as an internal or external command,\n",
            "operable program or batch file.\n"
          ]
        }
      ],
      "source": [
        "# permission for the json to act\n",
        "! chmod 600 /content/kaggle.json"
      ]
    },
    {
      "cell_type": "code",
      "execution_count": 4,
      "metadata": {
        "colab": {
          "base_uri": "https://localhost:8080/"
        },
        "id": "RbvK1LZNMAs6",
        "outputId": "d19cbc70-c190-42ce-d35b-4b7c97dfafc4"
      },
      "outputs": [
        {
          "name": "stdout",
          "output_type": "stream",
          "text": [
            "Downloading zalando-store-crawl.zip to /content\n",
            "100% 2.24G/2.24G [00:34<00:00, 106MB/s]\n",
            "100% 2.24G/2.24G [00:34<00:00, 69.9MB/s]\n"
          ]
        }
      ],
      "source": [
        "!KAGGLE_CONFIG_DIR=/content/ kaggle datasets download -d dqmonn/zalando-store-crawl"
      ]
    },
    {
      "cell_type": "code",
      "execution_count": 5,
      "metadata": {
        "id": "HUxoRlFuMO-f"
      },
      "outputs": [],
      "source": [
        "# Mengekstrak file dataset\n",
        "\n",
        "import zipfile\n",
        "zip_file = zipfile.ZipFile('/content/zalando-store-crawl.zip')\n",
        "zip_file.extractall('/tmp/')"
      ]
    },
    {
      "cell_type": "code",
      "execution_count": 6,
      "metadata": {
        "colab": {
          "base_uri": "https://localhost:8080/"
        },
        "id": "RHEldYfW6xLC",
        "outputId": "bdb0c722-a084-4e01-c721-e534c613dc22"
      },
      "outputs": [
        {
          "name": "stdout",
          "output_type": "stream",
          "text": [
            "Looking in indexes: https://pypi.org/simple, https://us-python.pkg.dev/colab-wheels/public/simple/\n",
            "Collecting split-folders\n",
            "  Downloading split_folders-0.5.1-py3-none-any.whl (8.4 kB)\n",
            "Installing collected packages: split-folders\n",
            "Successfully installed split-folders-0.5.1\n"
          ]
        }
      ],
      "source": [
        "!pip install split-folders"
      ]
    },
    {
      "cell_type": "code",
      "execution_count": 7,
      "metadata": {
        "colab": {
          "base_uri": "https://localhost:8080/"
        },
        "id": "kkVwxpS1-fX0",
        "outputId": "12263d8b-a86f-466f-f06d-25b3c59eab46"
      },
      "outputs": [
        {
          "name": "stderr",
          "output_type": "stream",
          "text": [
            "Copying files: 16186 files [00:05, 2989.63 files/s]\n"
          ]
        }
      ],
      "source": [
        "# Split folders\n",
        "import splitfolders\n",
        "from sklearn.model_selection import train_test_split\n",
        "\n",
        "input_folder = '/tmp/zalando'\n",
        "\n",
        "# train, val, test\n",
        "splitfolders.ratio(input_folder, output=\"/tmp/zalando2\", \n",
        "                   seed=42, ratio=(.7, .2, .1), \n",
        "                   group_prefix=None) # default values"
      ]
    },
    {
      "cell_type": "code",
      "execution_count": 8,
      "metadata": {
        "id": "ri20_IqWNJsz"
      },
      "outputs": [],
      "source": [
        "!rm -rf /tmp/zalando2/test/zalando"
      ]
    },
    {
      "cell_type": "code",
      "execution_count": 9,
      "metadata": {
        "id": "IqqQTRJwO012"
      },
      "outputs": [],
      "source": [
        "!rm -rf /tmp/zalando2/train/zalando"
      ]
    },
    {
      "cell_type": "code",
      "execution_count": 10,
      "metadata": {
        "id": "DKCudeBJPHAR"
      },
      "outputs": [],
      "source": [
        "!rm -rf /tmp/zalando2/val/zalando"
      ]
    },
    {
      "cell_type": "code",
      "execution_count": 11,
      "metadata": {
        "id": "1tsiU-vE-vxW"
      },
      "outputs": [],
      "source": [
        "# Import ImageDataGenerator\n",
        "\n",
        "from tensorflow.keras.preprocessing.image import ImageDataGenerator"
      ]
    },
    {
      "cell_type": "code",
      "execution_count": 12,
      "metadata": {
        "id": "ux355b98-0BJ"
      },
      "outputs": [],
      "source": [
        "# Training generator initialization\n",
        "\n",
        "train_generator = ImageDataGenerator(rescale=1/255,\n",
        "                                     horizontal_flip=True,\n",
        "                                     vertical_flip=True,\n",
        "                                     rotation_range=60,\n",
        "                                     zoom_range=0.3,\n",
        "                                     fill_mode='nearest')"
      ]
    },
    {
      "cell_type": "code",
      "execution_count": 13,
      "metadata": {
        "colab": {
          "base_uri": "https://localhost:8080/"
        },
        "id": "o2_e2LLg-2rm",
        "outputId": "d70f4af6-1d71-40e9-9b3f-719078846a26"
      },
      "outputs": [
        {
          "name": "stdout",
          "output_type": "stream",
          "text": [
            "Found 11326 images belonging to 6 classes.\n"
          ]
        }
      ],
      "source": [
        "# Training data generator (batch_size=1200) (class_mode='categorical')\n",
        "train_data = train_generator.flow_from_directory('/tmp/zalando2/train',\n",
        "                                                 target_size=(224, 224),\n",
        "                                                 batch_size=120,\n",
        "                                                 class_mode='categorical',)"
      ]
    },
    {
      "cell_type": "code",
      "execution_count": 14,
      "metadata": {
        "colab": {
          "base_uri": "https://localhost:8080/"
        },
        "id": "DyMxkfHP_W_R",
        "outputId": "a1b8c311-4172-4019-ef18-318a6becf267"
      },
      "outputs": [
        {
          "name": "stdout",
          "output_type": "stream",
          "text": [
            "Found 3235 images belonging to 6 classes.\n"
          ]
        }
      ],
      "source": [
        "# Validation data generator (batch_size=30) (class_mode='categorical')\n",
        "\n",
        "val_generator = ImageDataGenerator(rescale=1/255)\n",
        "val_data = val_generator = val_generator.flow_from_directory('/tmp/zalando2/val',\n",
        "                                                             target_size=(224, 224),\n",
        "                                                             class_mode='categorical',\n",
        "                                                             batch_size=33)"
      ]
    },
    {
      "cell_type": "code",
      "execution_count": 15,
      "metadata": {
        "id": "kX2Fapc3_ZzG"
      },
      "outputs": [],
      "source": [
        "# Construct 8-layer model\n",
        "\n",
        "from tensorflow.keras.models import Sequential\n",
        "from tensorflow.keras.layers import Conv2D, MaxPooling2D, Flatten, Dense\n",
        "\n",
        "model = Sequential ([\n",
        "    Conv2D(16, (3,3), activation='relu', input_shape=(224, 224, 3)),\n",
        "    MaxPooling2D(2,2),\n",
        "    Conv2D(32, (3,3), activation='relu'),\n",
        "    MaxPooling2D(3,3),\n",
        "    Flatten(),\n",
        "    Dense(128, activation='relu'),\n",
        "    Dense(128, activation='relu'),\n",
        "    Dense(6, activation='softmax'),\n",
        "])"
      ]
    },
    {
      "cell_type": "code",
      "execution_count": 16,
      "metadata": {
        "colab": {
          "base_uri": "https://localhost:8080/"
        },
        "id": "Y1ladAqGIXaD",
        "outputId": "c2e840c3-c389-4700-f172-ccbb3d5a3b98"
      },
      "outputs": [
        {
          "name": "stdout",
          "output_type": "stream",
          "text": [
            "Model: \"sequential\"\n",
            "_________________________________________________________________\n",
            " Layer (type)                Output Shape              Param #   \n",
            "=================================================================\n",
            " conv2d (Conv2D)             (None, 222, 222, 16)      448       \n",
            "                                                                 \n",
            " max_pooling2d (MaxPooling2D  (None, 111, 111, 16)     0         \n",
            " )                                                               \n",
            "                                                                 \n",
            " conv2d_1 (Conv2D)           (None, 109, 109, 32)      4640      \n",
            "                                                                 \n",
            " max_pooling2d_1 (MaxPooling  (None, 36, 36, 32)       0         \n",
            " 2D)                                                             \n",
            "                                                                 \n",
            " flatten (Flatten)           (None, 41472)             0         \n",
            "                                                                 \n",
            " dense (Dense)               (None, 128)               5308544   \n",
            "                                                                 \n",
            " dense_1 (Dense)             (None, 128)               16512     \n",
            "                                                                 \n",
            " dense_2 (Dense)             (None, 6)                 774       \n",
            "                                                                 \n",
            "=================================================================\n",
            "Total params: 5,330,918\n",
            "Trainable params: 5,330,918\n",
            "Non-trainable params: 0\n",
            "_________________________________________________________________\n"
          ]
        }
      ],
      "source": [
        "model.summary()"
      ]
    },
    {
      "cell_type": "code",
      "execution_count": 17,
      "metadata": {
        "id": "m22EJE-h_dVu"
      },
      "outputs": [],
      "source": [
        "# Compile model\n",
        "\n",
        "model.compile(optimizer='adam', loss='categorical_crossentropy', metrics=['accuracy'])"
      ]
    },
    {
      "cell_type": "code",
      "execution_count": 1,
      "metadata": {
        "colab": {
          "base_uri": "https://localhost:8080/",
          "height": 235
        },
        "id": "VrVyKXrk_hEU",
        "outputId": "32e65576-9933-4735-97e6-2fd085570cdf"
      },
      "outputs": [
        {
          "ename": "NameError",
          "evalue": "ignored",
          "output_type": "error",
          "traceback": [
            "\u001b[0;31m---------------------------------------------------------------------------\u001b[0m",
            "\u001b[0;31mNameError\u001b[0m                                 Traceback (most recent call last)",
            "\u001b[0;32m<ipython-input-1-3ffd9563a39f>\u001b[0m in \u001b[0;36m<module>\u001b[0;34m()\u001b[0m\n\u001b[1;32m      1\u001b[0m \u001b[0;31m# Training model (See step per epoch)\u001b[0m\u001b[0;34m\u001b[0m\u001b[0;34m\u001b[0m\u001b[0;34m\u001b[0m\u001b[0m\n\u001b[1;32m      2\u001b[0m \u001b[0;34m\u001b[0m\u001b[0m\n\u001b[0;32m----> 3\u001b[0;31m history = model.fit(train_data,\n\u001b[0m\u001b[1;32m      4\u001b[0m                     \u001b[0msteps_per_epoch\u001b[0m\u001b[0;34m=\u001b[0m\u001b[0;36m100\u001b[0m\u001b[0;34m/\u001b[0m\u001b[0;36m1\u001b[0m\u001b[0;34m,\u001b[0m\u001b[0;34m\u001b[0m\u001b[0;34m\u001b[0m\u001b[0m\n\u001b[1;32m      5\u001b[0m                     \u001b[0mepochs\u001b[0m\u001b[0;34m=\u001b[0m\u001b[0;36m10\u001b[0m\u001b[0;34m,\u001b[0m\u001b[0;34m\u001b[0m\u001b[0;34m\u001b[0m\u001b[0m\n",
            "\u001b[0;31mNameError\u001b[0m: name 'model' is not defined"
          ]
        }
      ],
      "source": [
        "# Training model (See step per epoch)\n",
        "\n",
        "history = model.fit(train_data,\n",
        "                    steps_per_epoch=100/1,\n",
        "                    epochs=10,\n",
        "                    validation_data=val_data,\n",
        "                    validation_steps=100/1, \n",
        "                    verbose=2)"
      ]
    },
    {
      "cell_type": "code",
      "execution_count": null,
      "metadata": {
        "id": "VSLiqKgm_jka"
      },
      "outputs": [],
      "source": [
        "# plot perubahan nilai loss dan akurasi pada tiap epoch saat training\n",
        "\n",
        "import matplotlib.pyplot as plt\n",
        "\n",
        "plt.plot(history.history['loss'])\n",
        "plt.plot(history.history['val_loss'])\n",
        "plt.title('Nilai Loss pada tiap epoch')"
      ]
    }
  ],
  "metadata": {
    "colab": {
      "name": "ML-Thrift_Hunter.ipynb",
      "provenance": []
    },
    "interpreter": {
      "hash": "446d564818f257a922c6db57faa76e0bd17a47af73b6684f0574c484142e606c"
    },
    "kernelspec": {
      "display_name": "Python 3.10.2 64-bit",
      "language": "python",
      "name": "python3"
    },
    "language_info": {
      "codemirror_mode": {
        "name": "ipython",
        "version": 3
      },
      "file_extension": ".py",
      "mimetype": "text/x-python",
      "name": "python",
      "nbconvert_exporter": "python",
      "pygments_lexer": "ipython3",
      "version": "3.10.2"
    }
  },
  "nbformat": 4,
  "nbformat_minor": 0
}
